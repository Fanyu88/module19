{
 "cells": [
  {
   "cell_type": "markdown",
   "metadata": {
    "id": "alIIEHibGc3M"
   },
   "source": [
    "## Part 1: Preprocessing"
   ]
  },
  {
   "cell_type": "code",
   "execution_count": 50,
   "metadata": {
    "colab": {
     "base_uri": "https://localhost:8080/",
     "height": 325
    },
    "id": "6eDUJ4NtGc3P",
    "outputId": "2480098c-135c-4cbf-9552-018494ee8ff5"
   },
   "outputs": [
    {
     "data": {
      "text/html": [
       "<div>\n",
       "<style scoped>\n",
       "    .dataframe tbody tr th:only-of-type {\n",
       "        vertical-align: middle;\n",
       "    }\n",
       "\n",
       "    .dataframe tbody tr th {\n",
       "        vertical-align: top;\n",
       "    }\n",
       "\n",
       "    .dataframe thead th {\n",
       "        text-align: right;\n",
       "    }\n",
       "</style>\n",
       "<table border=\"1\" class=\"dataframe\">\n",
       "  <thead>\n",
       "    <tr style=\"text-align: right;\">\n",
       "      <th></th>\n",
       "      <th>Age</th>\n",
       "      <th>Attrition</th>\n",
       "      <th>BusinessTravel</th>\n",
       "      <th>Department</th>\n",
       "      <th>DistanceFromHome</th>\n",
       "      <th>Education</th>\n",
       "      <th>EducationField</th>\n",
       "      <th>EnvironmentSatisfaction</th>\n",
       "      <th>HourlyRate</th>\n",
       "      <th>JobInvolvement</th>\n",
       "      <th>...</th>\n",
       "      <th>PerformanceRating</th>\n",
       "      <th>RelationshipSatisfaction</th>\n",
       "      <th>StockOptionLevel</th>\n",
       "      <th>TotalWorkingYears</th>\n",
       "      <th>TrainingTimesLastYear</th>\n",
       "      <th>WorkLifeBalance</th>\n",
       "      <th>YearsAtCompany</th>\n",
       "      <th>YearsInCurrentRole</th>\n",
       "      <th>YearsSinceLastPromotion</th>\n",
       "      <th>YearsWithCurrManager</th>\n",
       "    </tr>\n",
       "  </thead>\n",
       "  <tbody>\n",
       "    <tr>\n",
       "      <th>0</th>\n",
       "      <td>41</td>\n",
       "      <td>Yes</td>\n",
       "      <td>Travel_Rarely</td>\n",
       "      <td>Sales</td>\n",
       "      <td>1</td>\n",
       "      <td>2</td>\n",
       "      <td>Life Sciences</td>\n",
       "      <td>2</td>\n",
       "      <td>94</td>\n",
       "      <td>3</td>\n",
       "      <td>...</td>\n",
       "      <td>3</td>\n",
       "      <td>1</td>\n",
       "      <td>0</td>\n",
       "      <td>8</td>\n",
       "      <td>0</td>\n",
       "      <td>1</td>\n",
       "      <td>6</td>\n",
       "      <td>4</td>\n",
       "      <td>0</td>\n",
       "      <td>5</td>\n",
       "    </tr>\n",
       "    <tr>\n",
       "      <th>1</th>\n",
       "      <td>49</td>\n",
       "      <td>No</td>\n",
       "      <td>Travel_Frequently</td>\n",
       "      <td>Research &amp; Development</td>\n",
       "      <td>8</td>\n",
       "      <td>1</td>\n",
       "      <td>Life Sciences</td>\n",
       "      <td>3</td>\n",
       "      <td>61</td>\n",
       "      <td>2</td>\n",
       "      <td>...</td>\n",
       "      <td>4</td>\n",
       "      <td>4</td>\n",
       "      <td>1</td>\n",
       "      <td>10</td>\n",
       "      <td>3</td>\n",
       "      <td>3</td>\n",
       "      <td>10</td>\n",
       "      <td>7</td>\n",
       "      <td>1</td>\n",
       "      <td>7</td>\n",
       "    </tr>\n",
       "    <tr>\n",
       "      <th>2</th>\n",
       "      <td>37</td>\n",
       "      <td>Yes</td>\n",
       "      <td>Travel_Rarely</td>\n",
       "      <td>Research &amp; Development</td>\n",
       "      <td>2</td>\n",
       "      <td>2</td>\n",
       "      <td>Other</td>\n",
       "      <td>4</td>\n",
       "      <td>92</td>\n",
       "      <td>2</td>\n",
       "      <td>...</td>\n",
       "      <td>3</td>\n",
       "      <td>2</td>\n",
       "      <td>0</td>\n",
       "      <td>7</td>\n",
       "      <td>3</td>\n",
       "      <td>3</td>\n",
       "      <td>0</td>\n",
       "      <td>0</td>\n",
       "      <td>0</td>\n",
       "      <td>0</td>\n",
       "    </tr>\n",
       "    <tr>\n",
       "      <th>3</th>\n",
       "      <td>33</td>\n",
       "      <td>No</td>\n",
       "      <td>Travel_Frequently</td>\n",
       "      <td>Research &amp; Development</td>\n",
       "      <td>3</td>\n",
       "      <td>4</td>\n",
       "      <td>Life Sciences</td>\n",
       "      <td>4</td>\n",
       "      <td>56</td>\n",
       "      <td>3</td>\n",
       "      <td>...</td>\n",
       "      <td>3</td>\n",
       "      <td>3</td>\n",
       "      <td>0</td>\n",
       "      <td>8</td>\n",
       "      <td>3</td>\n",
       "      <td>3</td>\n",
       "      <td>8</td>\n",
       "      <td>7</td>\n",
       "      <td>3</td>\n",
       "      <td>0</td>\n",
       "    </tr>\n",
       "    <tr>\n",
       "      <th>4</th>\n",
       "      <td>27</td>\n",
       "      <td>No</td>\n",
       "      <td>Travel_Rarely</td>\n",
       "      <td>Research &amp; Development</td>\n",
       "      <td>2</td>\n",
       "      <td>1</td>\n",
       "      <td>Medical</td>\n",
       "      <td>1</td>\n",
       "      <td>40</td>\n",
       "      <td>3</td>\n",
       "      <td>...</td>\n",
       "      <td>3</td>\n",
       "      <td>4</td>\n",
       "      <td>1</td>\n",
       "      <td>6</td>\n",
       "      <td>3</td>\n",
       "      <td>3</td>\n",
       "      <td>2</td>\n",
       "      <td>2</td>\n",
       "      <td>2</td>\n",
       "      <td>2</td>\n",
       "    </tr>\n",
       "  </tbody>\n",
       "</table>\n",
       "<p>5 rows × 27 columns</p>\n",
       "</div>"
      ],
      "text/plain": [
       "   Age Attrition     BusinessTravel              Department  DistanceFromHome  \\\n",
       "0   41       Yes      Travel_Rarely                   Sales                 1   \n",
       "1   49        No  Travel_Frequently  Research & Development                 8   \n",
       "2   37       Yes      Travel_Rarely  Research & Development                 2   \n",
       "3   33        No  Travel_Frequently  Research & Development                 3   \n",
       "4   27        No      Travel_Rarely  Research & Development                 2   \n",
       "\n",
       "   Education EducationField  EnvironmentSatisfaction  HourlyRate  \\\n",
       "0          2  Life Sciences                        2          94   \n",
       "1          1  Life Sciences                        3          61   \n",
       "2          2          Other                        4          92   \n",
       "3          4  Life Sciences                        4          56   \n",
       "4          1        Medical                        1          40   \n",
       "\n",
       "   JobInvolvement  ...  PerformanceRating RelationshipSatisfaction  \\\n",
       "0               3  ...                  3                        1   \n",
       "1               2  ...                  4                        4   \n",
       "2               2  ...                  3                        2   \n",
       "3               3  ...                  3                        3   \n",
       "4               3  ...                  3                        4   \n",
       "\n",
       "   StockOptionLevel TotalWorkingYears  TrainingTimesLastYear WorkLifeBalance  \\\n",
       "0                 0                 8                      0               1   \n",
       "1                 1                10                      3               3   \n",
       "2                 0                 7                      3               3   \n",
       "3                 0                 8                      3               3   \n",
       "4                 1                 6                      3               3   \n",
       "\n",
       "   YearsAtCompany  YearsInCurrentRole  YearsSinceLastPromotion  \\\n",
       "0               6                   4                        0   \n",
       "1              10                   7                        1   \n",
       "2               0                   0                        0   \n",
       "3               8                   7                        3   \n",
       "4               2                   2                        2   \n",
       "\n",
       "   YearsWithCurrManager  \n",
       "0                     5  \n",
       "1                     7  \n",
       "2                     0  \n",
       "3                     0  \n",
       "4                     2  \n",
       "\n",
       "[5 rows x 27 columns]"
      ]
     },
     "execution_count": 50,
     "metadata": {},
     "output_type": "execute_result"
    }
   ],
   "source": [
    "# Import our dependencies\n",
    "from sklearn.model_selection import train_test_split\n",
    "from sklearn.preprocessing import StandardScaler\n",
    "import pandas as pd\n",
    "import numpy as np\n",
    "from tensorflow.keras.models import Model\n",
    "from tensorflow.keras import layers\n",
    "from sklearn.preprocessing import OneHotEncoder\n",
    "\n",
    "\n",
    "#  Import and read the attrition data\n",
    "attrition_df = pd.read_csv('attrition.csv')\n",
    "attrition_df.head()\n"
   ]
  },
  {
   "cell_type": "code",
   "execution_count": 6,
   "metadata": {
    "colab": {
     "base_uri": "https://localhost:8080/"
    },
    "id": "g22aQSY4Gc3Q",
    "outputId": "1f5c13c1-b981-4e40-a7ed-dd3fe6f1b81e"
   },
   "outputs": [
    {
     "data": {
      "text/plain": [
       "Age                         43\n",
       "Attrition                    2\n",
       "BusinessTravel               3\n",
       "Department                   3\n",
       "DistanceFromHome            29\n",
       "Education                    5\n",
       "EducationField               6\n",
       "EnvironmentSatisfaction      4\n",
       "HourlyRate                  71\n",
       "JobInvolvement               4\n",
       "JobLevel                     5\n",
       "JobRole                      9\n",
       "JobSatisfaction              4\n",
       "MaritalStatus                3\n",
       "NumCompaniesWorked          10\n",
       "OverTime                     2\n",
       "PercentSalaryHike           15\n",
       "PerformanceRating            2\n",
       "RelationshipSatisfaction     4\n",
       "StockOptionLevel             4\n",
       "TotalWorkingYears           40\n",
       "TrainingTimesLastYear        7\n",
       "WorkLifeBalance              4\n",
       "YearsAtCompany              37\n",
       "YearsInCurrentRole          19\n",
       "YearsSinceLastPromotion     16\n",
       "YearsWithCurrManager        18\n",
       "dtype: int64"
      ]
     },
     "execution_count": 6,
     "metadata": {},
     "output_type": "execute_result"
    }
   ],
   "source": [
    "# Determine the number of unique values in each column.\n",
    "attrition_df.nunique()\n",
    "\n"
   ]
  },
  {
   "cell_type": "code",
   "execution_count": 13,
   "metadata": {},
   "outputs": [],
   "source": [
    "# Load your dataset\n",
    "df = pd.read_csv('attrition.csv')\n",
    "# Create y_df with the Attrition and Department columns\n",
    "y_df = df[['Attrition', 'Department']]"
   ]
  },
  {
   "cell_type": "code",
   "execution_count": 26,
   "metadata": {
    "colab": {
     "base_uri": "https://localhost:8080/"
    },
    "id": "Virka0zLGc3R",
    "outputId": "dd5aee3a-9458-4ba6-e857-1b234de40915"
   },
   "outputs": [
    {
     "name": "stdout",
     "output_type": "stream",
     "text": [
      "Available columns in the dataset:\n",
      "['Age', 'Attrition', 'BusinessTravel', 'Department', 'DistanceFromHome', 'Education', 'EducationField', 'EnvironmentSatisfaction', 'HourlyRate', 'JobInvolvement', 'JobLevel', 'JobRole', 'JobSatisfaction', 'MaritalStatus', 'NumCompaniesWorked', 'OverTime', 'PercentSalaryHike', 'PerformanceRating', 'RelationshipSatisfaction', 'StockOptionLevel', 'TotalWorkingYears', 'TrainingTimesLastYear', 'WorkLifeBalance', 'YearsAtCompany', 'YearsInCurrentRole', 'YearsSinceLastPromotion', 'YearsWithCurrManager']\n",
      "\n",
      "Data types for each column in X_df:\n",
      "Age                         int64\n",
      "YearsAtCompany              int64\n",
      "EducationField             object\n",
      "JobRole                    object\n",
      "MaritalStatus              object\n",
      "PerformanceRating           int64\n",
      "WorkLifeBalance             int64\n",
      "DistanceFromHome            int64\n",
      "EnvironmentSatisfaction     int64\n",
      "JobSatisfaction             int64\n",
      "dtype: object\n"
     ]
    }
   ],
   "source": [
    "\n",
    "# Display all columns in the dataset to confirm their names\n",
    "print(\"Available columns in the dataset:\")\n",
    "print(df.columns.tolist())  # Shows all column names in a clear list format\n",
    "\n",
    "# Define the list of at least 10 column names to use as X data\n",
    "# Update these based on the exact names displayed from the print statement above\n",
    "selected_columns = ['Age', 'YearsAtCompany', 'EducationField', 'JobRole', \n",
    "                    'MaritalStatus', 'PerformanceRating', 'WorkLifeBalance', \n",
    "                    'DistanceFromHome', 'EnvironmentSatisfaction', 'JobSatisfaction']  # Replace with valid column names\n",
    "\n",
    "# Create X_df using the selected columns\n",
    "X_df = df[selected_columns]\n",
    "\n",
    "# Show the data types for X_df\n",
    "print(\"\\nData types for each column in X_df:\")\n",
    "print(X_df.dtypes)\n"
   ]
  },
  {
   "cell_type": "code",
   "execution_count": 27,
   "metadata": {
    "id": "KaJfdOGUMHMR"
   },
   "outputs": [],
   "source": [
    "# Split the data into training and testing sets\n",
    "from sklearn.model_selection import train_test_split\n",
    "\n"
   ]
  },
  {
   "cell_type": "code",
   "execution_count": 29,
   "metadata": {
    "colab": {
     "base_uri": "https://localhost:8080/"
    },
    "id": "NYubUJqiLCSp",
    "outputId": "53f31721-571c-4c94-d13e-25a715749593"
   },
   "outputs": [
    {
     "name": "stdout",
     "output_type": "stream",
     "text": [
      "Non-numeric columns: Index([], dtype='object')\n",
      "Data types after encoding:\n",
      "Age                                int64\n",
      "YearsAtCompany                     int64\n",
      "PerformanceRating                  int64\n",
      "WorkLifeBalance                    int64\n",
      "DistanceFromHome                   int64\n",
      "EnvironmentSatisfaction            int64\n",
      "JobSatisfaction                    int64\n",
      "EducationField_Life Sciences        bool\n",
      "EducationField_Marketing            bool\n",
      "EducationField_Medical              bool\n",
      "EducationField_Other                bool\n",
      "EducationField_Technical Degree     bool\n",
      "JobRole_Human Resources             bool\n",
      "JobRole_Laboratory Technician       bool\n",
      "JobRole_Manager                     bool\n",
      "JobRole_Manufacturing Director      bool\n",
      "JobRole_Research Director           bool\n",
      "JobRole_Research Scientist          bool\n",
      "JobRole_Sales Executive             bool\n",
      "JobRole_Sales Representative        bool\n",
      "MaritalStatus_Married               bool\n",
      "MaritalStatus_Single                bool\n",
      "dtype: object\n"
     ]
    }
   ],
   "source": [
    "# Identify non-numeric columns in X_df\n",
    "non_numeric_columns = X_df.select_dtypes(include=['object']).columns\n",
    "print(\"Non-numeric columns:\", non_numeric_columns)\n",
    "\n",
    "# Convert categorical columns to numeric\n",
    "# Option A: Use one-hot encoding for columns with a manageable number of unique values\n",
    "X_df = pd.get_dummies(X_df, columns=non_numeric_columns, drop_first=True)\n",
    "\n",
    "# Display the transformed X_df to ensure all columns are now numeric\n",
    "print(\"Data types after encoding:\")\n",
    "print(X_df.dtypes)\n",
    "\n"
   ]
  },
  {
   "cell_type": "code",
   "execution_count": 31,
   "metadata": {
    "id": "EWA-aIA5Gc3T"
   },
   "outputs": [
    {
     "name": "stdout",
     "output_type": "stream",
     "text": [
      "Scaled training data (first 5 rows):\n",
      "        Age  YearsAtCompany  PerformanceRating  WorkLifeBalance  \\\n",
      "0 -1.388559       -0.974263          -0.429290         0.357435   \n",
      "1 -2.040738       -1.138573          -0.429290         0.357435   \n",
      "2 -0.845077       -0.645643          -0.429290         0.357435   \n",
      "3  0.241886       -0.317023           2.329427         0.357435   \n",
      "4 -0.627685        0.504527          -0.429290         0.357435   \n",
      "\n",
      "   DistanceFromHome  EnvironmentSatisfaction  JobSatisfaction  \\\n",
      "0          1.440396                 0.279706        -1.582336   \n",
      "1         -0.522699                -0.639104         1.152834   \n",
      "2          1.317703                 1.198515         1.152834   \n",
      "3          0.336155                 1.198515        -0.670613   \n",
      "4          1.317703                -0.639104         0.241111   \n",
      "\n",
      "   EducationField_Life Sciences  EducationField_Marketing  \\\n",
      "0                     -0.846634                 -0.343323   \n",
      "1                      1.181149                 -0.343323   \n",
      "2                     -0.846634                  2.912709   \n",
      "3                     -0.846634                 -0.343323   \n",
      "4                      1.181149                 -0.343323   \n",
      "\n",
      "   EducationField_Medical  ...  JobRole_Human Resources  \\\n",
      "0               -0.676202  ...                 -0.19245   \n",
      "1               -0.676202  ...                 -0.19245   \n",
      "2               -0.676202  ...                 -0.19245   \n",
      "3                1.478848  ...                 -0.19245   \n",
      "4               -0.676202  ...                 -0.19245   \n",
      "\n",
      "   JobRole_Laboratory Technician  JobRole_Manager  \\\n",
      "0                       2.182821        -0.268355   \n",
      "1                      -0.458123        -0.268355   \n",
      "2                      -0.458123        -0.268355   \n",
      "3                      -0.458123        -0.268355   \n",
      "4                       2.182821        -0.268355   \n",
      "\n",
      "   JobRole_Manufacturing Director  JobRole_Research Director  \\\n",
      "0                       -0.316376                  -0.247733   \n",
      "1                       -0.316376                  -0.247733   \n",
      "2                       -0.316376                  -0.247733   \n",
      "3                        3.160800                  -0.247733   \n",
      "4                       -0.316376                  -0.247733   \n",
      "\n",
      "   JobRole_Research Scientist  JobRole_Sales Executive  \\\n",
      "0                   -0.509019                -0.524870   \n",
      "1                    1.964562                -0.524870   \n",
      "2                   -0.509019                 1.905235   \n",
      "3                   -0.509019                -0.524870   \n",
      "4                   -0.509019                -0.524870   \n",
      "\n",
      "   JobRole_Sales Representative  MaritalStatus_Married  MaritalStatus_Single  \n",
      "0                     -0.260998              -0.937334             -0.662882  \n",
      "1                     -0.260998              -0.937334              1.508564  \n",
      "2                     -0.260998              -0.937334             -0.662882  \n",
      "3                     -0.260998               1.066856             -0.662882  \n",
      "4                     -0.260998              -0.937334             -0.662882  \n",
      "\n",
      "[5 rows x 22 columns]\n",
      "\n",
      "Scaled testing data (first 5 rows):\n",
      "        Age  YearsAtCompany  PerformanceRating  WorkLifeBalance  \\\n",
      "0 -0.953774       -0.317023           -0.42929         0.357435   \n",
      "1  1.763636       -0.481333           -0.42929         0.357435   \n",
      "2 -1.388559       -0.974263           -0.42929         0.357435   \n",
      "3  0.894065       -0.974263           -0.42929         0.357435   \n",
      "4 -0.084203        0.997457           -0.42929         1.796970   \n",
      "\n",
      "   DistanceFromHome  EnvironmentSatisfaction  JobSatisfaction  \\\n",
      "0         -0.522699                 1.198515        -1.582336   \n",
      "1          0.458849                 1.198515        -1.582336   \n",
      "2          1.563090                 1.198515         0.241111   \n",
      "3         -0.277312                -0.639104        -1.582336   \n",
      "4         -0.522699                 1.198515        -0.670613   \n",
      "\n",
      "   EducationField_Life Sciences  EducationField_Marketing  \\\n",
      "0                     -0.846634                 -0.343323   \n",
      "1                     -0.846634                 -0.343323   \n",
      "2                     -0.846634                 -0.343323   \n",
      "3                      1.181149                 -0.343323   \n",
      "4                      1.181149                 -0.343323   \n",
      "\n",
      "   EducationField_Medical  ...  JobRole_Human Resources  \\\n",
      "0                1.478848  ...                -0.192450   \n",
      "1                1.478848  ...                -0.192450   \n",
      "2               -0.676202  ...                 5.196152   \n",
      "3               -0.676202  ...                -0.192450   \n",
      "4               -0.676202  ...                -0.192450   \n",
      "\n",
      "   JobRole_Laboratory Technician  JobRole_Manager  \\\n",
      "0                      -0.458123        -0.268355   \n",
      "1                      -0.458123        -0.268355   \n",
      "2                      -0.458123        -0.268355   \n",
      "3                      -0.458123        -0.268355   \n",
      "4                       2.182821        -0.268355   \n",
      "\n",
      "   JobRole_Manufacturing Director  JobRole_Research Director  \\\n",
      "0                       -0.316376                  -0.247733   \n",
      "1                        3.160800                  -0.247733   \n",
      "2                       -0.316376                  -0.247733   \n",
      "3                       -0.316376                  -0.247733   \n",
      "4                       -0.316376                  -0.247733   \n",
      "\n",
      "   JobRole_Research Scientist  JobRole_Sales Executive  \\\n",
      "0                   -0.509019                 1.905235   \n",
      "1                   -0.509019                -0.524870   \n",
      "2                   -0.509019                -0.524870   \n",
      "3                    1.964562                -0.524870   \n",
      "4                   -0.509019                -0.524870   \n",
      "\n",
      "   JobRole_Sales Representative  MaritalStatus_Married  MaritalStatus_Single  \n",
      "0                     -0.260998              -0.937334              1.508564  \n",
      "1                     -0.260998              -0.937334             -0.662882  \n",
      "2                     -0.260998               1.066856             -0.662882  \n",
      "3                     -0.260998              -0.937334             -0.662882  \n",
      "4                     -0.260998              -0.937334              1.508564  \n",
      "\n",
      "[5 rows x 22 columns]\n"
     ]
    }
   ],
   "source": [
    "# Split the data into training and testing sets\n",
    "X_train, X_test = train_test_split(X_df_numeric, test_size=0.2, random_state=42)\n",
    "\n",
    "# Create a StandardScaler instance\n",
    "scaler = StandardScaler()\n",
    "\n",
    "# Fit the StandardScaler to the training data\n",
    "scaler.fit(X_train)\n",
    "\n",
    "# Scale the training and testing data\n",
    "X_train_scaled = scaler.transform(X_train)\n",
    "X_test_scaled = scaler.transform(X_test)\n",
    "\n",
    "# Optional: Convert the scaled arrays back to DataFrames for easier handling and interpretation\n",
    "X_train_scaled = pd.DataFrame(X_train_scaled, columns=X_train.columns)\n",
    "X_test_scaled = pd.DataFrame(X_test_scaled, columns=X_test.columns)\n",
    "\n",
    "# Display the scaled data to confirm\n",
    "print(\"Scaled training data (first 5 rows):\")\n",
    "print(X_train_scaled.head())\n",
    "print(\"\\nScaled testing data (first 5 rows):\")\n",
    "print(X_test_scaled.head())"
   ]
  },
  {
   "cell_type": "code",
   "execution_count": 42,
   "metadata": {
    "colab": {
     "base_uri": "https://localhost:8080/"
    },
    "id": "-z0Mky8vQSz4",
    "outputId": "debefc85-c20b-48f5-f4d9-91eadd65d36a"
   },
   "outputs": [
    {
     "name": "stdout",
     "output_type": "stream",
     "text": [
      "Encoded Department column for training data (first 5 rows):\n",
      "   Department_Research & Development  Department_Sales\n",
      "0                                1.0               0.0\n",
      "1                                1.0               0.0\n",
      "2                                0.0               1.0\n",
      "3                                1.0               0.0\n",
      "4                                1.0               0.0\n",
      "\n",
      "Encoded Department column for testing data (first 5 rows):\n",
      "   Department_Research & Development  Department_Sales\n",
      "0                                0.0               1.0\n",
      "1                                1.0               0.0\n",
      "2                                0.0               0.0\n",
      "3                                1.0               0.0\n",
      "4                                1.0               0.0\n"
     ]
    }
   ],
   "source": [
    "\n",
    "# Separate features and targets\n",
    "X_df = df.drop(columns=['Attrition', 'Department'])  # Features excluding target columns\n",
    "y_df = df[['Attrition', 'Department']]               # Target columns\n",
    "\n",
    "# Split the data into training and testing sets\n",
    "X_train, X_test, y_train, y_test = train_test_split(X_df, y_df, test_size=0.2, random_state=42)\n",
    "\n",
    "# Initialize the OneHotEncoder for the Department column\n",
    "department_encoder = OneHotEncoder(sparse_output=False, drop='first')  # `sparse_output` used instead of `sparse`\n",
    "\n",
    "# Fit the encoder to the Department column in the training data\n",
    "department_encoder.fit(y_train[['Department']])\n",
    "\n",
    "# Transform the Department column in both the training and testing sets\n",
    "department_train_encoded = department_encoder.transform(y_train[['Department']])\n",
    "department_test_encoded = department_encoder.transform(y_test[['Department']])\n",
    "\n",
    "# Convert the encoded arrays to DataFrames for easier handling and interpretation\n",
    "department_train_encoded = pd.DataFrame(department_train_encoded, columns=department_encoder.get_feature_names_out(['Department']))\n",
    "department_test_encoded = pd.DataFrame(department_test_encoded, columns=department_encoder.get_feature_names_out(['Department']))\n",
    "\n",
    "# Optional: Display the encoded Department columns to confirm\n",
    "print(\"Encoded Department column for training data (first 5 rows):\")\n",
    "print(department_train_encoded.head())\n",
    "print(\"\\nEncoded Department column for testing data (first 5 rows):\")\n",
    "print(department_test_encoded.head())\n"
   ]
  },
  {
   "cell_type": "code",
   "execution_count": 43,
   "metadata": {
    "colab": {
     "base_uri": "https://localhost:8080/"
    },
    "id": "-G4DSpvFRrk4",
    "outputId": "9842e948-8a55-4b80-8fac-f96714e85589"
   },
   "outputs": [
    {
     "name": "stdout",
     "output_type": "stream",
     "text": [
      "Encoded Attrition column for training data (first 5 rows):\n",
      "   Attrition_Yes\n",
      "0            0.0\n",
      "1            0.0\n",
      "2            0.0\n",
      "3            0.0\n",
      "4            0.0\n",
      "\n",
      "Encoded Attrition column for testing data (first 5 rows):\n",
      "   Attrition_Yes\n",
      "0            0.0\n",
      "1            0.0\n",
      "2            1.0\n",
      "3            0.0\n",
      "4            0.0\n"
     ]
    }
   ],
   "source": [
    "# Initialize the OneHotEncoder for the Attrition column\n",
    "attrition_encoder = OneHotEncoder(sparse_output=False, drop='first')  # drop='first' to create a binary variable for yes/no\n",
    "\n",
    "# Fit the encoder to the Attrition column in the training data\n",
    "attrition_encoder.fit(y_train[['Attrition']])\n",
    "\n",
    "# Transform the Attrition column in both the training and testing sets\n",
    "attrition_train_encoded = attrition_encoder.transform(y_train[['Attrition']])\n",
    "attrition_test_encoded = attrition_encoder.transform(y_test[['Attrition']])\n",
    "\n",
    "# Convert the encoded arrays to DataFrames for easier handling and interpretation\n",
    "attrition_train_encoded = pd.DataFrame(attrition_train_encoded, columns=attrition_encoder.get_feature_names_out(['Attrition']))\n",
    "attrition_test_encoded = pd.DataFrame(attrition_test_encoded, columns=attrition_encoder.get_feature_names_out(['Attrition']))\n",
    "\n",
    "# Display the encoded Attrition columns to confirm\n",
    "print(\"Encoded Attrition column for training data (first 5 rows):\")\n",
    "print(attrition_train_encoded.head())\n",
    "print(\"\\nEncoded Attrition column for testing data (first 5 rows):\")\n",
    "print(attrition_test_encoded.head())\n"
   ]
  },
  {
   "cell_type": "markdown",
   "metadata": {
    "id": "ykNmu_WWGc3T"
   },
   "source": [
    "## Create, Compile, and Train the Model"
   ]
  },
  {
   "cell_type": "code",
   "execution_count": 51,
   "metadata": {
    "id": "WUptZqmSGc3T"
   },
   "outputs": [],
   "source": [
    "\n",
    "#  Find the number of columns in X_train\n",
    "input_shape = X_train.shape[1]  # Number of features in the training set\n",
    "\n",
    "# Create the input layer\n",
    "input_layer = Input(shape=(input_shape,))\n",
    "\n",
    "# Create shared layers\n",
    "# Add a few dense layers (adjust the number of neurons as needed)\n",
    "shared_layer1 = Dense(64, activation='relu')(input_layer)\n",
    "shared_layer2 = Dense(32, activation='relu')(shared_layer1)\n",
    "\n"
   ]
  },
  {
   "cell_type": "code",
   "execution_count": 54,
   "metadata": {
    "id": "JukjTm2yTEqd"
   },
   "outputs": [],
   "source": [
    "# Create a branch for the Department prediction\n",
    "# Hidden layer for the Department branch\n",
    "department_hidden = Dense(16, activation='relu')(shared_layer2)  # Adjust the number of neurons as needed\n",
    "\n",
    "# Output layer for the Department branch\n",
    "# Assuming `department_train_encoded.shape[1]` is the number of unique Department categories\n",
    "department_output = Dense(department_train_encoded.shape[1], activation='softmax', name='department')(department_hidden)\n"
   ]
  },
  {
   "cell_type": "code",
   "execution_count": 55,
   "metadata": {
    "id": "9OqhUiOJUBkR"
   },
   "outputs": [],
   "source": [
    "# Create a branch for the Attrition prediction\n",
    "# Hidden layer for the Attrition branch\n",
    "attrition_hidden = Dense(16, activation='relu')(shared_layer2)  # Adjust the number of neurons as needed\n",
    "\n",
    "# Output layer for the Attrition branch\n",
    "# Since Attrition is a binary classification, use 1 neuron with sigmoid activation\n",
    "attrition_output = Dense(1, activation='sigmoid', name='attrition')(attrition_hidden)\n"
   ]
  },
  {
   "cell_type": "code",
   "execution_count": 57,
   "metadata": {
    "colab": {
     "base_uri": "https://localhost:8080/"
    },
    "id": "twmuejdxGc3T",
    "outputId": "25096308-b68b-42e4-e4ea-ae82e97c435a"
   },
   "outputs": [
    {
     "name": "stdout",
     "output_type": "stream",
     "text": [
      "Model: \"model_1\"\n",
      "__________________________________________________________________________________________________\n",
      " Layer (type)                   Output Shape         Param #     Connected to                     \n",
      "==================================================================================================\n",
      " input_4 (InputLayer)           [(None, 25)]         0           []                               \n",
      "                                                                                                  \n",
      " dense_6 (Dense)                (None, 64)           1664        ['input_4[0][0]']                \n"
     ]
    },
    {
     "name": "stdout",
     "output_type": "stream",
     "text": [
      "                                                                                                  \n",
      " dense_7 (Dense)                (None, 32)           2080        ['dense_6[0][0]']                \n",
      "                                                                                                  \n",
      " dense_10 (Dense)               (None, 16)           528         ['dense_7[0][0]']                \n",
      "                                                                                                  \n",
      " dense_11 (Dense)               (None, 16)           528         ['dense_7[0][0]']                \n",
      "                                                                                                  \n",
      " department (Dense)             (None, 2)            34          ['dense_10[0][0]']               \n",
      "                                                                                                  \n",
      " attrition (Dense)              (None, 1)            17          ['dense_11[0][0]']               \n",
      "                                                                                                  \n",
      "==================================================================================================\n",
      "Total params: 4,851\n",
      "Trainable params: 4,851\n",
      "Non-trainable params: 0\n",
      "__________________________________________________________________________________________________\n"
     ]
    }
   ],
   "source": [
    "# Create the model\n",
    "# Define the model with inputs and outputs for both branches\n",
    "model = Model(inputs=input_layer, outputs=[department_output, attrition_output])\n",
    "\n",
    "# Compile the model\n",
    "# Use different losses for each output: categorical_crossentropy for multi-class and binary_crossentropy for binary\n",
    "model.compile(optimizer='adam',\n",
    "              loss={'department': 'categorical_crossentropy', 'attrition': 'binary_crossentropy'},\n",
    "              metrics={'department': 'accuracy', 'attrition': 'accuracy'})\n",
    "\n",
    "# Summarize the model\n",
    "model.summary()"
   ]
  },
  {
   "cell_type": "code",
   "execution_count": null,
   "metadata": {
    "colab": {
     "base_uri": "https://localhost:8080/"
    },
    "id": "c8oGy0dpGc3U",
    "outputId": "cc667d43-28cf-42d4-d719-c2bc02888d30"
   },
   "outputs": [
    {
     "name": "stdout",
     "output_type": "stream",
     "text": [
      "Epoch 1/30\n",
      "30/30 [==============================] - 0s 12ms/step - loss: 2.0960 - department_loss: 1.1766 - attrition_loss: 0.9194 - department_accuracy: 0.9213 - attrition_accuracy: 0.8277 - val_loss: 1.9438 - val_department_loss: 1.3031 - val_attrition_loss: 0.6407 - val_department_accuracy: 0.8644 - val_attrition_accuracy: 0.7881\n",
      "Epoch 2/30\n",
      "30/30 [==============================] - 0s 7ms/step - loss: 2.1090 - department_loss: 1.3460 - attrition_loss: 0.7630 - department_accuracy: 0.9277 - attrition_accuracy: 0.8181 - val_loss: 0.7724 - val_department_loss: 0.1028 - val_attrition_loss: 0.6696 - val_department_accuracy: 0.9831 - val_attrition_accuracy: 0.7839\n",
      "Epoch 3/30\n",
      "30/30 [==============================] - 0s 7ms/step - loss: 4.1175 - department_loss: 3.4789 - attrition_loss: 0.6386 - department_accuracy: 0.8936 - attrition_accuracy: 0.8213 - val_loss: 0.8334 - val_department_loss: 0.2652 - val_attrition_loss: 0.5682 - val_department_accuracy: 0.9873 - val_attrition_accuracy: 0.7881\n",
      "Epoch 4/30\n",
      "30/30 [==============================] - 0s 8ms/step - loss: 3.7617 - department_loss: 2.7849 - attrition_loss: 0.9768 - department_accuracy: 0.9191 - attrition_accuracy: 0.8223 - val_loss: 1.4158 - val_department_loss: 0.9264 - val_attrition_loss: 0.4894 - val_department_accuracy: 0.9576 - val_attrition_accuracy: 0.7712\n",
      "Epoch 5/30\n",
      "30/30 [==============================] - 0s 7ms/step - loss: 7.4357 - department_loss: 6.5044 - attrition_loss: 0.9313 - department_accuracy: 0.8638 - attrition_accuracy: 0.8245 - val_loss: 3.8249 - val_department_loss: 1.2632 - val_attrition_loss: 2.5617 - val_department_accuracy: 0.9492 - val_attrition_accuracy: 0.3941\n",
      "Epoch 6/30\n",
      "30/30 [==============================] - 0s 9ms/step - loss: 2.5563 - department_loss: 1.1768 - attrition_loss: 1.3795 - department_accuracy: 0.9319 - attrition_accuracy: 0.7819 - val_loss: 0.8475 - val_department_loss: 0.3299 - val_attrition_loss: 0.5176 - val_department_accuracy: 0.9322 - val_attrition_accuracy: 0.7627\n",
      "Epoch 7/30\n",
      "30/30 [==============================] - 0s 8ms/step - loss: 3.1330 - department_loss: 1.4505 - attrition_loss: 1.6824 - department_accuracy: 0.9362 - attrition_accuracy: 0.8223 - val_loss: 14.4863 - val_department_loss: 9.2231 - val_attrition_loss: 5.2633 - val_department_accuracy: 0.8814 - val_attrition_accuracy: 0.3136\n",
      "Epoch 8/30\n",
      "30/30 [==============================] - 0s 7ms/step - loss: 5.7027 - department_loss: 4.0052 - attrition_loss: 1.6975 - department_accuracy: 0.9032 - attrition_accuracy: 0.7734 - val_loss: 19.6558 - val_department_loss: 18.9887 - val_attrition_loss: 0.6671 - val_department_accuracy: 0.6144 - val_attrition_accuracy: 0.7966\n",
      "Epoch 9/30\n",
      "30/30 [==============================] - 0s 7ms/step - loss: 11.6486 - department_loss: 10.0647 - attrition_loss: 1.5839 - department_accuracy: 0.8660 - attrition_accuracy: 0.8138 - val_loss: 6.3699 - val_department_loss: 5.0769 - val_attrition_loss: 1.2930 - val_department_accuracy: 0.8347 - val_attrition_accuracy: 0.5466\n",
      "Epoch 10/30\n",
      "30/30 [==============================] - 0s 7ms/step - loss: 8.6482 - department_loss: 6.4436 - attrition_loss: 2.2046 - department_accuracy: 0.8830 - attrition_accuracy: 0.7957 - val_loss: 8.5524 - val_department_loss: 4.6693 - val_attrition_loss: 3.8831 - val_department_accuracy: 0.9110 - val_attrition_accuracy: 0.7966\n",
      "Epoch 11/30\n",
      "30/30 [==============================] - 0s 8ms/step - loss: 16.2941 - department_loss: 13.4587 - attrition_loss: 2.8354 - department_accuracy: 0.8191 - attrition_accuracy: 0.8096 - val_loss: 24.1975 - val_department_loss: 22.9228 - val_attrition_loss: 1.2747 - val_department_accuracy: 0.6398 - val_attrition_accuracy: 0.7881\n",
      "Epoch 12/30\n",
      "30/30 [==============================] - 0s 7ms/step - loss: 4.1929 - department_loss: 2.3377 - attrition_loss: 1.8552 - department_accuracy: 0.9245 - attrition_accuracy: 0.8064 - val_loss: 5.7683 - val_department_loss: 3.5272 - val_attrition_loss: 2.2412 - val_department_accuracy: 0.8729 - val_attrition_accuracy: 0.8051\n",
      "Epoch 13/30\n",
      "30/30 [==============================] - 0s 7ms/step - loss: 10.0860 - department_loss: 6.6968 - attrition_loss: 3.3892 - department_accuracy: 0.8723 - attrition_accuracy: 0.7830 - val_loss: 2.4363 - val_department_loss: 1.7342 - val_attrition_loss: 0.7021 - val_department_accuracy: 0.9534 - val_attrition_accuracy: 0.6949\n",
      "Epoch 14/30\n",
      "30/30 [==============================] - 0s 7ms/step - loss: 11.5853 - department_loss: 8.7757 - attrition_loss: 2.8096 - department_accuracy: 0.8745 - attrition_accuracy: 0.7691 - val_loss: 1.1813 - val_department_loss: 0.4151 - val_attrition_loss: 0.7662 - val_department_accuracy: 0.9915 - val_attrition_accuracy: 0.7754\n",
      "Epoch 15/30\n",
      "30/30 [==============================] - 0s 8ms/step - loss: 14.1445 - department_loss: 11.4525 - attrition_loss: 2.6920 - department_accuracy: 0.8745 - attrition_accuracy: 0.7670 - val_loss: 4.9679 - val_department_loss: 3.0626 - val_attrition_loss: 1.9053 - val_department_accuracy: 0.9110 - val_attrition_accuracy: 0.8051\n",
      "Epoch 16/30\n",
      "30/30 [==============================] - 0s 8ms/step - loss: 3.4538 - department_loss: 2.4743 - attrition_loss: 0.9796 - department_accuracy: 0.9330 - attrition_accuracy: 0.8011 - val_loss: 2.0846 - val_department_loss: 0.9935 - val_attrition_loss: 1.0910 - val_department_accuracy: 0.9280 - val_attrition_accuracy: 0.7924\n",
      "Epoch 17/30\n",
      "30/30 [==============================] - 0s 7ms/step - loss: 8.5718 - department_loss: 5.8064 - attrition_loss: 2.7654 - department_accuracy: 0.8936 - attrition_accuracy: 0.7532 - val_loss: 5.9546 - val_department_loss: 5.1301 - val_attrition_loss: 0.8245 - val_department_accuracy: 0.8856 - val_attrition_accuracy: 0.7966\n",
      "Epoch 18/30\n",
      "30/30 [==============================] - 0s 8ms/step - loss: 12.7791 - department_loss: 11.8193 - attrition_loss: 0.9598 - department_accuracy: 0.8649 - attrition_accuracy: 0.8096 - val_loss: 1.3517 - val_department_loss: 0.6679 - val_attrition_loss: 0.6838 - val_department_accuracy: 0.9831 - val_attrition_accuracy: 0.7839\n",
      "Epoch 19/30\n",
      "30/30 [==============================] - 0s 9ms/step - loss: 22.0116 - department_loss: 20.0532 - attrition_loss: 1.9583 - department_accuracy: 0.8617 - attrition_accuracy: 0.8021 - val_loss: 4.6015 - val_department_loss: 0.8829 - val_attrition_loss: 3.7186 - val_department_accuracy: 0.9788 - val_attrition_accuracy: 0.7966\n",
      "Epoch 20/30\n",
      "30/30 [==============================] - 0s 8ms/step - loss: 23.0429 - department_loss: 19.4529 - attrition_loss: 3.5900 - department_accuracy: 0.8479 - attrition_accuracy: 0.7968 - val_loss: 8.6627 - val_department_loss: 3.8988 - val_attrition_loss: 4.7638 - val_department_accuracy: 0.9280 - val_attrition_accuracy: 0.7966\n",
      "Epoch 21/30\n",
      "30/30 [==============================] - 0s 9ms/step - loss: 10.9348 - department_loss: 9.1440 - attrition_loss: 1.7908 - department_accuracy: 0.8798 - attrition_accuracy: 0.8053 - val_loss: 61.1193 - val_department_loss: 59.4249 - val_attrition_loss: 1.6944 - val_department_accuracy: 0.5678 - val_attrition_accuracy: 0.8051\n",
      "Epoch 22/30\n",
      "30/30 [==============================] - 0s 12ms/step - loss: 14.8437 - department_loss: 11.3794 - attrition_loss: 3.4643 - department_accuracy: 0.8979 - attrition_accuracy: 0.7915 - val_loss: 67.0956 - val_department_loss: 66.0172 - val_attrition_loss: 1.0785 - val_department_accuracy: 0.5636 - val_attrition_accuracy: 0.7839\n",
      "Epoch 23/30\n",
      "30/30 [==============================] - 0s 10ms/step - loss: 12.0251 - department_loss: 10.6226 - attrition_loss: 1.4025 - department_accuracy: 0.8851 - attrition_accuracy: 0.7968 - val_loss: 25.5920 - val_department_loss: 24.6604 - val_attrition_loss: 0.9316 - val_department_accuracy: 0.7585 - val_attrition_accuracy: 0.6822\n",
      "Epoch 24/30\n",
      "30/30 [==============================] - 0s 7ms/step - loss: 7.1856 - department_loss: 4.7281 - attrition_loss: 2.4575 - department_accuracy: 0.9106 - attrition_accuracy: 0.8106 - val_loss: 47.5279 - val_department_loss: 45.4177 - val_attrition_loss: 2.1103 - val_department_accuracy: 0.6398 - val_attrition_accuracy: 0.8051\n",
      "Epoch 25/30\n",
      "30/30 [==============================] - 0s 8ms/step - loss: 7.6472 - department_loss: 6.1081 - attrition_loss: 1.5392 - department_accuracy: 0.9011 - attrition_accuracy: 0.8106 - val_loss: 6.3780 - val_department_loss: 4.2351 - val_attrition_loss: 2.1428 - val_department_accuracy: 0.9195 - val_attrition_accuracy: 0.4619\n",
      "Epoch 26/30\n",
      "30/30 [==============================] - 0s 7ms/step - loss: 14.6284 - department_loss: 12.2064 - attrition_loss: 2.4220 - department_accuracy: 0.8713 - attrition_accuracy: 0.7872 - val_loss: 1.9565 - val_department_loss: 0.1821 - val_attrition_loss: 1.7744 - val_department_accuracy: 0.9788 - val_attrition_accuracy: 0.8093\n",
      "Epoch 27/30\n",
      "30/30 [==============================] - 0s 7ms/step - loss: 9.2582 - department_loss: 6.0370 - attrition_loss: 3.2211 - department_accuracy: 0.9021 - attrition_accuracy: 0.8096 - val_loss: 19.5504 - val_department_loss: 16.4432 - val_attrition_loss: 3.1072 - val_department_accuracy: 0.8856 - val_attrition_accuracy: 0.4195\n",
      "Epoch 28/30\n",
      "30/30 [==============================] - 0s 9ms/step - loss: 14.7959 - department_loss: 7.4415 - attrition_loss: 7.3545 - department_accuracy: 0.9064 - attrition_accuracy: 0.7894 - val_loss: 3.4913 - val_department_loss: 2.2002 - val_attrition_loss: 1.2911 - val_department_accuracy: 0.9237 - val_attrition_accuracy: 0.5593\n",
      "Epoch 29/30\n",
      "30/30 [==============================] - 0s 7ms/step - loss: 27.5670 - department_loss: 22.5022 - attrition_loss: 5.0648 - department_accuracy: 0.8213 - attrition_accuracy: 0.7574 - val_loss: 31.9433 - val_department_loss: 22.3736 - val_attrition_loss: 9.5697 - val_department_accuracy: 0.8686 - val_attrition_accuracy: 0.7966\n",
      "Epoch 30/30\n",
      "30/30 [==============================] - 0s 7ms/step - loss: 23.2945 - department_loss: 19.0031 - attrition_loss: 4.2913 - department_accuracy: 0.8723 - attrition_accuracy: 0.7830 - val_loss: 15.9426 - val_department_loss: 8.4261 - val_attrition_loss: 7.5165 - val_department_accuracy: 0.9068 - val_attrition_accuracy: 0.7966\n"
     ]
    }
   ],
   "source": [
    "\n",
    "#Train the model\n",
    "history = model.fit(\n",
    "    X_train_scaled,\n",
    "    {'department': department_train_encoded, 'attrition': attrition_train_encoded},\n",
    "    epochs=30,\n",
    "    batch_size=32,\n",
    "    validation_split=0.2,\n",
    "    verbose=1\n",
    ")\n"
   ]
  },
  {
   "cell_type": "code",
   "execution_count": 63,
   "metadata": {
    "colab": {
     "base_uri": "https://localhost:8080/"
    },
    "id": "VsMoaQlgGc3U",
    "outputId": "1bd4e601-e964-4abc-ad83-aeecf6b696be"
   },
   "outputs": [
    {
     "name": "stdout",
     "output_type": "stream",
     "text": [
      "10/10 [==============================] - 0s 3ms/step - loss: 17.7090 - department_loss: 8.8794 - attrition_loss: 8.8296 - department_accuracy: 0.9150 - attrition_accuracy: 0.8707\n",
      "\n",
      "Evaluation Results:\n",
      "Department Loss: 8.879435539245605\n",
      "Department Accuracy: 0.9149659872055054\n",
      "Attrition Loss: 8.829614639282227\n",
      "Attrition Accuracy: 0.8707482814788818\n"
     ]
    }
   ],
   "source": [
    "# Evaluate the model using the testing data\n",
    "evaluation = model.evaluate(\n",
    "    X_test_scaled,\n",
    "    {'department': department_test_encoded, 'attrition': attrition_test_encoded},\n",
    "    verbose=1\n",
    ")\n",
    "\n",
    "# Print the evaluation results\n",
    "print(\"\\nEvaluation Results:\")\n",
    "print(f\"Department Loss: {evaluation[1]}\")\n",
    "print(f\"Department Accuracy: {evaluation[3]}\")\n",
    "print(f\"Attrition Loss: {evaluation[2]}\")\n",
    "print(f\"Attrition Accuracy: {evaluation[4]}\")\n"
   ]
  },
  {
   "cell_type": "code",
   "execution_count": 64,
   "metadata": {
    "colab": {
     "base_uri": "https://localhost:8080/"
    },
    "id": "ZlCtlHi0Vt54",
    "outputId": "bc21ef3e-80c2-4b38-9c29-79515bc23dec"
   },
   "outputs": [
    {
     "name": "stdout",
     "output_type": "stream",
     "text": [
      "10/10 [==============================] - 0s 8ms/step - loss: 17.7090 - department_loss: 8.8794 - attrition_loss: 8.8296 - department_accuracy: 0.9150 - attrition_accuracy: 0.8707\n",
      "\n",
      "Model Accuracy:\n",
      "Department Accuracy: 91.50%\n",
      "Attrition Accuracy: 87.07%\n"
     ]
    }
   ],
   "source": [
    "# Evaluate the model using the testing data\n",
    "evaluation = model.evaluate(\n",
    "    X_test_scaled,\n",
    "    {'department': department_test_encoded, 'attrition': attrition_test_encoded},\n",
    "    verbose=1\n",
    ")\n",
    "\n",
    "# Print the accuracy for both Department and Attrition\n",
    "department_accuracy = evaluation[3]  # Department accuracy\n",
    "attrition_accuracy = evaluation[4]   # Attrition accuracy\n",
    "\n",
    "print(\"\\nModel Accuracy:\")\n",
    "print(f\"Department Accuracy: {department_accuracy * 100:.2f}%\")\n",
    "print(f\"Attrition Accuracy: {attrition_accuracy * 100:.2f}%\")\n"
   ]
  },
  {
   "cell_type": "markdown",
   "metadata": {
    "id": "eGSyfsZfWOQM"
   },
   "source": [
    "# Summary\n",
    "\n",
    "In the provided space below, briefly answer the following questions.\n",
    "\n",
    "1. Is accuracy the best metric to use on this data? Why or why not?\n",
    "\n",
    "2. What activation functions did you choose for your output layers, and why?\n",
    "\n",
    "3. Can you name a few ways that this model might be improved?"
   ]
  },
  {
   "cell_type": "markdown",
   "metadata": {
    "id": "pi9SLpFnWvbF"
   },
   "source": [
    "YOUR ANSWERS HERE\n",
    "\n",
    "1. Accuracy is good, but it may not be enough if we have more of one type than another (like if most people stay instead of leave). In that case, precision (how correct we are) and recall (how many we catch) can help us understand better.\n",
    "2. For Department, I used softmax because it helps choose one answer out of many (like picking the right department).\n",
    "For Attrition, I used sigmoid because it’s best for yes-or-no questions (like “Will they leave?”).\n",
    "3. Stop Overfitting: Add dropout layers that ignore some parts of the model during training to make it better at generalizing.\n",
    "Tune Settings: Try different numbers for layers, learning rate, etc., to see what works best.\n",
    "Balance Data: If one category has more data than another, we can adjust the model to pay more attention to the smaller category.\n",
    "Add Good Features: Adding useful information can help the model learn better.\n",
    "\n",
    "\n",
    "\n",
    "\n",
    "\n"
   ]
  },
  {
   "cell_type": "markdown",
   "metadata": {},
   "source": []
  }
 ],
 "metadata": {
  "colab": {
   "provenance": []
  },
  "kernelspec": {
   "display_name": "dev",
   "language": "python",
   "name": "python3"
  },
  "language_info": {
   "codemirror_mode": {
    "name": "ipython",
    "version": 3
   },
   "file_extension": ".py",
   "mimetype": "text/x-python",
   "name": "python",
   "nbconvert_exporter": "python",
   "pygments_lexer": "ipython3",
   "version": "3.10.13"
  }
 },
 "nbformat": 4,
 "nbformat_minor": 0
}
